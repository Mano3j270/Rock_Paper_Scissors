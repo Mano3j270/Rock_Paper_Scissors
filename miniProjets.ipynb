{
  "cells": [
    {
      "cell_type": "markdown",
      "metadata": {
        "id": "view-in-github",
        "colab_type": "text"
      },
      "source": [
        "<a href=\"https://colab.research.google.com/github/Mano3j270/Rock_Paper_Scissors/blob/main/miniProjets.ipynb\" target=\"_parent\"><img src=\"https://colab.research.google.com/assets/colab-badge.svg\" alt=\"Open In Colab\"/></a>"
      ]
    },
    {
      "cell_type": "markdown",
      "metadata": {
        "id": "7QurU_r9-9Ab"
      },
      "source": [
        "## Rock - Paper - Scissors"
      ]
    },
    {
      "cell_type": "code",
      "execution_count": null,
      "metadata": {
        "colab": {
          "background_save": true,
          "base_uri": "https://localhost:8080/"
        },
        "id": "yjuA_GJy-4Aq",
        "outputId": "eff1beb5-bcb8-42c1-c23d-c4b96043c3e5"
      },
      "outputs": [
        {
          "name": "stdout",
          "output_type": "stream",
          "text": [
            "--- Rock-Paper-Scissors ---\n",
            "--- Round number 1 ---\n"
          ]
        }
      ],
      "source": [
        "import random\n",
        "\n",
        "def get_computer_choice():\n",
        "  return random.choice([\"rock\",\"paper\",\"scissors\"])\n",
        "\n",
        "def get_user_choice():\n",
        "  while True:\n",
        "    user_choice = input(\"Enter your choice [Rock-Paper-Scissors]: \").lower()\n",
        "    if user_choice in [\"rock\",\"paper\",\"scissors\"]:\n",
        "      return user_choice\n",
        "    else:\n",
        "      print(\"Wrong choice. Please try again\")\n",
        "\n",
        "def decide_winner(user_choice,computer_choice):\n",
        "  if user_choice == computer_choice:\n",
        "    print(\"It's a tie\")\n",
        "  elif (user_choice == \"rock\" and computer_choice == \"scissors\") or \\\n",
        "       (user_choice == \"paper\" and computer_choice == \"rock\") or \\\n",
        "       (user_choice == \"scissors\" and computer_choice == \"paper\"):\n",
        "       return \"user\"\n",
        "  else:\n",
        "    return \"computer\"\n",
        "\n",
        "def play():\n",
        "  user_score = 0\n",
        "  computer_score = 0\n",
        "  round_number = 1\n",
        "\n",
        "  print(\"--- Rock-Paper-Scissors ---\")\n",
        "\n",
        "  while user_score < 5 and computer_score < 5:\n",
        "\n",
        "    print(f\"--- Round number {round_number} ---\")\n",
        "\n",
        "    computer_choice = get_computer_choice()\n",
        "    user_choice = get_user_choice()\n",
        "\n",
        "    print(f\"Your choice = {user_choice}\")\n",
        "    print(f\"Computer's choice = {computer_choice}\")\n",
        "\n",
        "    result = decide_winner(user_choice,computer_choice)\n",
        "\n",
        "    if result == \"user\":\n",
        "      user_score += 1\n",
        "      print(\"You won this round\")\n",
        "\n",
        "    elif result == \"computer\":\n",
        "      computer_score += 1\n",
        "      print(\"Computer won this round\")\n",
        "\n",
        "    print(f\"\"\"Scores :\n",
        "You      : {user_score}\n",
        "Computer : {computer_score}\n",
        " \"\"\")\n",
        "\n",
        "\n",
        "    round_number += 1\n",
        "\n",
        "\n",
        "play()"
      ]
    },
    {
      "cell_type": "code",
      "execution_count": null,
      "metadata": {
        "id": "eUuR3A29_GJJ"
      },
      "outputs": [],
      "source": []
    }
  ],
  "metadata": {
    "colab": {
      "provenance": [],
      "authorship_tag": "ABX9TyM0JIdLfheoKkKS9v4nSuBU",
      "include_colab_link": true
    },
    "kernelspec": {
      "display_name": "Python 3",
      "name": "python3"
    },
    "language_info": {
      "name": "python"
    }
  },
  "nbformat": 4,
  "nbformat_minor": 0
}