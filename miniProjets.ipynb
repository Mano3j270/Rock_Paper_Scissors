{
  "cells": [
    {
      "cell_type": "markdown",
      "metadata": {
        "id": "view-in-github",
        "colab_type": "text"
      },
      "source": [
        "<a href=\"https://colab.research.google.com/github/Mano3j270/Rock_Paper_Scissors/blob/main/miniProjets.ipynb\" target=\"_parent\"><img src=\"https://colab.research.google.com/assets/colab-badge.svg\" alt=\"Open In Colab\"/></a>"
      ]
    },
    {
      "cell_type": "markdown",
      "metadata": {
        "id": "7QurU_r9-9Ab"
      },
      "source": [
        "## Rock - Paper - Scissors"
      ]
    },
    {
      "cell_type": "code",
      "execution_count": null,
      "metadata": {
        "colab": {
          "background_save": true,
          "base_uri": "https://localhost:8080/"
        },
        "id": "yjuA_GJy-4Aq",
        "outputId": "f55798a4-484e-4482-c60d-1d5bd464f141"
      },
      "outputs": [
        {
          "output_type": "stream",
          "name": "stdout",
          "text": [
            "Welcome To Rock - Paper - Scissors Game\n",
            "\n",
            "--- Round number 1 ---\n"
          ]
        }
      ],
      "source": [
        "import random\n",
        "\n",
        "def computer():\n",
        "  return random.choice([\"rock\",\"paper\",\"scissors\"])\n",
        "\n",
        "def user():\n",
        "  while True:\n",
        "    user = input(\"Enter your choice [Rock,Paper,Scissors]: \").lower()\n",
        "    if user in [\"rock\",\"paper\",\"scissors\"]:\n",
        "      return user\n",
        "    else:\n",
        "      print(\"Invalid input. Please try again.\")\n",
        "\n",
        "def decide_winner(user,computer):\n",
        "  if user == computer:\n",
        "    return \"It's a tie!\"\n",
        "  elif (user == \"rock\" and computer == \"scissors\") or \\\n",
        "       (user == \"paper\" and computer == \"rock\") or \\\n",
        "       (user == \"scissors\" and computer == \"paper\"):\n",
        "    return \"user\"\n",
        "\n",
        "  else:\n",
        "    return \"computer\"\n",
        "\n",
        "def play():\n",
        "\n",
        "  user_score = 0\n",
        "  computer_score = 0\n",
        "  round_number = 1\n",
        "\n",
        "  print(\"Welcome To Rock - Paper - Scissors Game\")\n",
        "\n",
        "  while user_score < 5 and computer_score < 5:\n",
        "    print(f\"\\n--- Round number {round_number} ---\")\n",
        "\n",
        "    user_choice = user()\n",
        "    computer_choice = computer()\n",
        "\n",
        "    print(f\"Your choice: {user_choice}\")\n",
        "    print(f\"Computer's choice: {computer_choice}\")\n",
        "\n",
        "    result = decide_winner(user_choice,computer_choice)\n",
        "\n",
        "    if result == \"user\":\n",
        "      print(\"You won this round\")\n",
        "      user_score += 1\n",
        "\n",
        "    elif result == \"computer\":\n",
        "      print(\"Computer won this round\")\n",
        "      computer_score += 1\n",
        "\n",
        "    else:\n",
        "      print(\"It's a tie\")\n",
        "\n",
        "    print(f\"\"\"Your score : {user_score} || Computer's score : {computer_score}\"\"\")\n",
        "\n",
        "    round_number += 1\n",
        "\n",
        "  if user_score == 5:\n",
        "    print(\"Congratulations! You won the game.\")\n",
        "  else:\n",
        "    print(\"Computer won the game. Better luck next time.\")\n",
        "\n",
        "play()"
      ]
    },
    {
      "cell_type": "code",
      "execution_count": null,
      "metadata": {
        "id": "eUuR3A29_GJJ"
      },
      "outputs": [],
      "source": []
    }
  ],
  "metadata": {
    "colab": {
      "provenance": [],
      "include_colab_link": true
    },
    "kernelspec": {
      "display_name": "Python 3",
      "name": "python3"
    },
    "language_info": {
      "name": "python"
    }
  },
  "nbformat": 4,
  "nbformat_minor": 0
}